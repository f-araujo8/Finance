{
 "cells": [
  {
   "cell_type": "markdown",
   "metadata": {},
   "source": [
    "<span style=\"color: black; font-family: Verdana; font-size: 2em;\">Garman-Kohlhagen Option Pricing Model</span>\n"
   ]
  },
  {
   "cell_type": "markdown",
   "metadata": {},
   "source": [
    "<span style=\"color: black; font-family: Verdana; font-size: 1em;\">The standard Black-Scholes Model assumes that the interest rate is constant and homogeneous across all countries. Garman-Kohlhagen Model introduces a diffential component between domestic and foreign risk-free interest rate, since each country has exposure to different risk factors. As a result, this model has been used to compute the fair value of European FX Options.</span>\n"
   ]
  },
  {
   "cell_type": "code",
   "execution_count": 1,
   "metadata": {},
   "outputs": [],
   "source": [
    "__author__ = 'Faraujo'\n",
    "\n",
    "### Import module ###\n",
    "import numpy as np\n",
    "import scipy.stats as ss\n",
    "from tkinter import *\n",
    "\n",
    "### GUI configuration ###\n",
    "root = Tk()\n",
    "root.title(\"Garman-Kohlhagen Option Pricing Model\")\n",
    "\n",
    "## Setting geometry ## \n",
    "root.geometry('400x300+600+200') \n",
    "root.resizable(False,False)\n",
    "\n",
    "\n",
    "### Label ###\n",
    "Label(root, text=\"SPOT PRICE:\").grid(row = 0, sticky = W)\n",
    "Label(root, text=\"STRIKE PRICE:\").grid(row = 1, sticky = W)\n",
    "Label(root, text=\"TIME TO MATURITY:\").grid(row = 2, sticky = W)\n",
    "Label(root, text=\"DOMESTIC RISKLESS INTEREST RATE:\").grid(row = 3, sticky = W)\n",
    "Label(root, text=\"FOREIGN RISKLESS INTEREST RATE:\").grid(row = 4, sticky = W)\n",
    "Label(root, text=\"VOLATILITY OF THE UNDERLYING ASSET:\").grid(row = 5, sticky = W)\n",
    "Label(root, text=\"OPTION TYPE:\").grid(row = 6, sticky = W)\n",
    "\n",
    "\n",
    "### User input ###\n",
    "S = Entry(root)\n",
    "S.grid(row=0, column=1)\n",
    "K = Entry(root)\n",
    "K.grid(row=1, column=1)\n",
    "T = Entry(root)\n",
    "T.grid(row=2, column=1)\n",
    "r_d = Entry(root)\n",
    "r_d.grid(row=3, column=1)\n",
    "r_f = Entry(root)\n",
    "r_f.grid(row=4, column=1)\n",
    "sigma = Entry(root)\n",
    "sigma.grid(row=5, column=1)\n",
    "\n",
    "\n",
    "# Temp variable\n",
    "temp_variable = StringVar() \n",
    "\n",
    "## Dropdown Menu (Option_type) ##\n",
    "dropDownList = [\"CALL\", \"PUT\"]\n",
    "\n",
    "drop_down = OptionMenu(root, temp_variable, *dropDownList)\n",
    "\n",
    "temp_variable.set(dropDownList[0]) \n",
    "\n",
    "drop_down.grid(row=6, column=1)\n",
    "\n",
    "### output label ###\n",
    "rlabel1 = Label(root)\n",
    "rlabel1.grid(row = 7, sticky = W)\n",
    "\n",
    "### main function - Garman-Kohlhagen Model ###\n",
    "def FX_vanilla() :\n",
    "\n",
    "    d1 = (np.log((float(S.get())) / (float(K.get()))) + ((float(r_d.get()) - float(r_f.get())) + 0.5 * (float(sigma.get())) ** 2) * (float(T.get()))) / ((float(sigma.get())) * np.sqrt(float(T.get())))\n",
    "\n",
    "    d2 = d1 - (float(sigma.get()) * np.sqrt(float(T.get())))\n",
    "\n",
    "    ### If condition based on the option type\n",
    "\n",
    "    if temp_variable.get() == 'CALL':\n",
    "\n",
    "        alpha = 1\n",
    "\n",
    "    else:\n",
    "\n",
    "        alpha = -1\n",
    "\n",
    "    price = int(alpha)*(float(S.get()) * np.exp(-1*(float(r_f.get())) * float(T.get()))*ss.norm.cdf(alpha*d1, 0, 1) - float(K.get()) * np.exp(-1*float(r_d.get()) * float(T.get()))* ss.norm.cdf(alpha*d2, 0, 1))\n",
    "\n",
    "    rlabel1.config(text=\"Option price: %s\" % price )\n",
    "\n",
    "    return\n",
    "\n",
    "### button ###\n",
    "btn = Button(root, text=\"Compute the price\", command=FX_vanilla).grid(row = 7, column = 1, sticky = E)\n",
    "\n",
    "### mainloop ###\n",
    "root.mainloop()"
   ]
  },
  {
   "attachments": {
    "image.png": {
     "image/png": "[encoded data removed]"
    }
   },
   "cell_type": "markdown",
   "metadata": {},
   "source": [
    "\n",
    "![image.png](attachment:image.png)"
   ]
  },
  {
   "cell_type": "markdown",
   "metadata": {},
   "source": [
    "<span style=\"color: black; font-family: Verdana; font-size: 1em;\">The user enters valid parameters of the model and it returns the fair value based on the option type.</span>"
   ]
  }
 ],
 "metadata": {
  "kernelspec": {
   "display_name": "Python 3",
   "language": "python",
   "name": "python3"
  },
  "language_info": {
   "codemirror_mode": {
    "name": "ipython",
    "version": 3
   },
   "file_extension": ".py",
   "mimetype": "text/x-python",
   "name": "python",
   "nbconvert_exporter": "python",
   "pygments_lexer": "ipython3",
   "version": "3.8.5"
  }
 },
 "nbformat": 4,
 "nbformat_minor": 4
}
